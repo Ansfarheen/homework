{
 "cells": [
  {
   "cell_type": "code",
   "execution_count": 15,
   "id": "3a84f8f5",
   "metadata": {},
   "outputs": [
    {
     "name": "stdout",
     "output_type": "stream",
     "text": [
      "Enter a stringhello\n",
      "5\n"
     ]
    }
   ],
   "source": [
    "# Q1 You have to write a function which will take string and return a len of it without using a inbuilt fun len.\n",
    "\n",
    "def length(str1):\n",
    "    '''\n",
    "        Function to return the length of a string without using len().\n",
    "    '''\n",
    "    count=0\n",
    "    for i in str1:\n",
    "        count=count+1\n",
    "    return count\n",
    "    \n",
    "\n",
    "str1=input('Enter a string')\n",
    "res=length(str1)\n",
    "print(res)\n"
   ]
  },
  {
   "cell_type": "code",
   "execution_count": 21,
   "id": "bc46a33c",
   "metadata": {},
   "outputs": [
    {
     "name": "stdout",
     "output_type": "stream",
     "text": [
      "Index of 1 is 0\n",
      "Index of 23 is 1\n",
      "Index of 64 is 2\n",
      "Index of hello is 3\n",
      "Index of 12.89 is 8\n",
      "Index of True is 9\n",
      "Index of (1+2j) is 10\n"
     ]
    }
   ],
   "source": [
    "# Q2 Write a fun which will be able to print an index of all premitive element which you will pass.\n",
    "\n",
    "def prem_index(l):\n",
    "    '''\n",
    "        Function to print the index of all the premitive data types.\n",
    "    '''\n",
    "    for i in range(len(input)):\n",
    "        if type(l[i])==list or type(l[i])==tuple or type(l[i])==dict or type(l[i])==set:\n",
    "            pass\n",
    "        else:\n",
    "            print(f'Index of {l[i]} is {i}')\n",
    "\n",
    "input=[1,23,64,'hello',[34,'hii'],('ab','cd,12'),{'age':23,'address':89},{2,1,2,1,56,9},12.89,True,1+2j]\n",
    "prem_index(input)"
   ]
  },
  {
   "cell_type": "code",
   "execution_count": 25,
   "id": "45969677",
   "metadata": {},
   "outputs": [
    {
     "name": "stdout",
     "output_type": "stream",
     "text": [
      "[56, 'rohan', 4555, 'hindi', 'comp. science', 25432, 9, 80, 900000]\n"
     ]
    }
   ],
   "source": [
    "#Q3 Write a function which will take input as a dict and give me out as a list of all the values even in case of 2 level nesting it should work .\n",
    "\n",
    "def list_val(input):\n",
    "    res=[]\n",
    "    for j in input.values():\n",
    "        if type(j)==dict:\n",
    "            for p in j.values():\n",
    "                if type(p)==dict:\n",
    "                    res.extend(p.values())\n",
    "                else:\n",
    "                    res.append(p)\n",
    "                   \n",
    "        else:\n",
    "            res.append(j)\n",
    "    return res\n",
    "            \n",
    "\n",
    "input={23:56,'name':'rohan','adress':4555,'student':{'subject':{'arts':'hindi','science':'comp. science'},'id':25432,'class':9,'marks':80},'l':900000}\n",
    "res=list_val(input)\n",
    "print(res)\n"
   ]
  },
  {
   "cell_type": "code",
   "execution_count": 22,
   "id": "1352e7f6",
   "metadata": {},
   "outputs": [
    {
     "name": "stdout",
     "output_type": "stream",
     "text": [
      "dict_values([25432, 9, 80, {'arts': 'hindi', 'science': 'comp. science'}])\n"
     ]
    }
   ],
   "source": [
    "input={23:56,'name':'rohan','adress':4555,'student':{'id':25432,'class':9,'marks':80,'subject':{'arts':'hindi','science':'comp. science'}}}\n",
    "for i in input.values():\n",
    "   \n",
    "    if type(i)==dict:\n",
    "        print(i.values())\n",
    "        if type(i.values())==dict:\n",
    "            print(i.values().values())\n",
    "        "
   ]
  },
  {
   "cell_type": "code",
   "execution_count": 27,
   "id": "e9f25201",
   "metadata": {},
   "outputs": [
    {
     "name": "stdout",
     "output_type": "stream",
     "text": [
      "This is a hello function\n"
     ]
    }
   ],
   "source": [
    "# Q4 write a function which will take another function as an input and return me an output \n",
    "\n",
    "def hello():\n",
    "    return 'This is a hello function'\n",
    "\n",
    "def fun(f):\n",
    "    '''\n",
    "        This function takes hello() and return an output.\n",
    "    '''\n",
    "    print(f())\n",
    "    \n",
    "fun(hello)"
   ]
  },
  {
   "cell_type": "code",
   "execution_count": 35,
   "id": "24378c62",
   "metadata": {},
   "outputs": [
    {
     "name": "stdout",
     "output_type": "stream",
     "text": [
      "[12, 34, 11, 78, 12, 34, 111, 333, 666]\n"
     ]
    }
   ],
   "source": [
    "# Q5 Write a function which will take multiple list as a input and give me concatnation of all the element as an output.\n",
    "\n",
    "def mul_list(*args):\n",
    "    '''\n",
    "    Function that takes multiple list as input and returns concatenation of all the elements.\n",
    "    '''\n",
    "    res=[]\n",
    "    for i in args:\n",
    "        res.extend(i)\n",
    "    return res\n",
    "\n",
    "input1=[12,34,11]\n",
    "input2=[78,12,34]\n",
    "input3=[111,333,666]\n",
    "res=mul_list(input1,input2,input3)\n",
    "print(res)"
   ]
  },
  {
   "cell_type": "code",
   "execution_count": 41,
   "id": "9b3b9dc1",
   "metadata": {},
   "outputs": [
    {
     "name": "stdout",
     "output_type": "stream",
     "text": [
      "index of 21 is 0\n",
      "index of 34 is 1\n",
      "index of a is 2\n",
      "index of b is 3\n",
      "index of 89 is 4\n",
      "index of 34.9 is 5\n",
      "index of l is 6\n",
      "index of (2+3j) is 7\n"
     ]
    }
   ],
   "source": [
    "\"\"\"\n",
    "Q6 Write a function which will be able to take a list as an input return an index of each element\n",
    "    like a inbuilt index function but even if we have repetative element it should return index \n",
    "\"\"\" \n",
    "\n",
    "def index(input):\n",
    "    '''\n",
    "    Function that takes a list as an input and return index of each element.\n",
    "    '''\n",
    "    \n",
    "    res=()\n",
    "    for i in range(len(input)):\n",
    "        print(f'index of {input[i]} is {i}')\n",
    "\n",
    "input=[21,34,'a','b',89,34.90,'l',2+3j]\n",
    "index(input)\n"
   ]
  },
  {
   "cell_type": "code",
   "execution_count": 3,
   "id": "36959801",
   "metadata": {},
   "outputs": [
    {
     "name": "stdout",
     "output_type": "stream",
     "text": [
      ".astropy\n",
      ".ipynb_checkpoints\n",
      ".ipython\n",
      ".jupyter\n",
      ".matplotlib\n",
      "3D Objects\n",
      "anaconda3\n",
      "AppData\n",
      "Application Data\n",
      "Assignments.ipynb\n",
      "Assignment_1.ipynb\n",
      "classes.ipynb\n",
      "Contacts\n",
      "Cookies\n",
      "Desktop\n",
      "Documents\n",
      "Downloads\n",
      "eda1.ipynb\n",
      "ex1.csv\n",
      "example\n",
      "example2\n",
      "farheen\n",
      "Favorites\n",
      "file_handling.ipynb\n",
      "homework_23Dec21.ipynb\n",
      "IntelGraphicsProfiles\n",
      "Links\n",
      "list_basic_program.ipynb\n",
      "Local Settings\n",
      "Music\n",
      "My Documents\n",
      "NetHood\n",
      "new\n",
      "NTUSER.DAT\n",
      "ntuser.dat.LOG1\n",
      "ntuser.dat.LOG2\n",
      "NTUSER.DAT{b6b91b15-ce16-11eb-835a-4c796e50ddbc}.TM.blf\n",
      "NTUSER.DAT{b6b91b15-ce16-11eb-835a-4c796e50ddbc}.TMContainer00000000000000000001.regtrans-ms\n",
      "NTUSER.DAT{b6b91b15-ce16-11eb-835a-4c796e50ddbc}.TMContainer00000000000000000002.regtrans-ms\n",
      "ntuser.ini\n",
      "OneDrive\n",
      "Pictures\n",
      "PrintHood\n",
      "python basic.ipynb\n",
      "python_string_programs.ipynb\n",
      "Recent\n",
      "Sales_April_2019.csv.xlsx\n",
      "Saved Games\n",
      "Searches\n",
      "SendTo\n",
      "Start Menu\n",
      "Templates\n",
      "test.csv\n",
      "test1.py\n",
      "train.csv\n",
      "Videos\n",
      "__pycache__\n"
     ]
    }
   ],
   "source": [
    "# Q7 Write a function which will whould return list of all the file name from a directory. \n",
    "\n",
    "import os\n",
    "def listfile(path):\n",
    "    '''\n",
    "    Function to return all the files from a directory.\n",
    "    '''\n",
    "    for i in os.listdir(path):\n",
    "        print(i)\n",
    "\n",
    "path=os.getcwd()    \n",
    "listfile(path)"
   ]
  },
  {
   "cell_type": "code",
   "execution_count": 5,
   "id": "9d1e8b44",
   "metadata": {},
   "outputs": [
    {
     "name": "stdout",
     "output_type": "stream",
     "text": [
      "System: Windows\n",
      "Node Name: QTEKLAP004\n",
      "Release: 10\n",
      "Version: 10.0.19041\n",
      "Machine: AMD64\n",
      "Processor: Intel64 Family 6 Model 140 Stepping 1, GenuineIntel\n"
     ]
    }
   ],
   "source": [
    "# Q8 write a function which will be able to show your system configuration . \n",
    "\n",
    "import platform\n",
    "\n",
    "def  system_config():\n",
    "    '''\n",
    "    Function to show system configuration.\n",
    "    '''\n",
    "    my_system = platform.uname()\n",
    "    print(f\"System: {my_system.system}\")\n",
    "    print(f\"Node Name: {my_system.node}\")\n",
    "    print(f\"Release: {my_system.release}\")\n",
    "    print(f\"Version: {my_system.version}\")\n",
    "    print(f\"Machine: {my_system.machine}\")\n",
    "    print(f\"Processor: {my_system.processor}\")\n",
    "system_config()"
   ]
  },
  {
   "cell_type": "code",
   "execution_count": 10,
   "id": "057e536c",
   "metadata": {},
   "outputs": [
    {
     "name": "stdout",
     "output_type": "stream",
     "text": [
      "The date is January 01, 2022\n",
      "The time is 17:09:04\n"
     ]
    }
   ],
   "source": [
    "# Q9  Write a function which will be able to show date and time.\n",
    "\n",
    "def date_time(dt):\n",
    "    '''\n",
    "    Function to print date and time\n",
    "    '''\n",
    "    print('The date is '+ dt.strftime('%B %d, %Y'))\n",
    "    print('The time is '+ dt.strftime('%X'))\n",
    "    \n",
    "\n",
    "import datetime\n",
    "dt=datetime.datetime.today()\n",
    "date_time(dt)\n"
   ]
  },
  {
   "cell_type": "code",
   "execution_count": 17,
   "id": "dcd89bea",
   "metadata": {},
   "outputs": [],
   "source": [
    "# Q10 Write a function whihc will be able to read a image file and show it to you.\n",
    "\n",
    "# !pip install pillow\n",
    "\n",
    "from PIL import Image\n",
    "\n",
    "def show_image():\n",
    "    '''\n",
    "    Function to show image file.\n",
    "    '''\n",
    "    img = Image.open(\"image.jfif\")\n",
    "    img.show()\n",
    "\n",
    "show_image()"
   ]
  },
  {
   "cell_type": "code",
   "execution_count": 29,
   "id": "6f03d557",
   "metadata": {},
   "outputs": [],
   "source": [
    "# Q11 Write a function which can read video file and play for you.\n",
    "#!pip install opencv-python\n",
    "\n",
    "import cv2\n",
    "\n",
    "\n",
    "# Create a VideoCapture object and read from input file\n",
    "cap = cv2.VideoCapture('tree.mp4')\n",
    "\n",
    "# Check if camera opened successfully\n",
    "if (cap.isOpened()== False):\n",
    "    print(\"Error opening video file\")\n",
    "\n",
    "# Read until video is completed\n",
    "while(cap.isOpened()):\n",
    "\t\n",
    "# Capture frame-by-frame\n",
    "    ret, frame = cap.read()\n",
    "    if ret == True:\n",
    "\n",
    "        # Display the resulting frame\n",
    "        cv2.imshow('Frame', frame)\n",
    "\n",
    "        # Press Q on keyboard to exit\n",
    "        if cv2.waitKey(25) & 0xFF == ord('q'):\n",
    "            break\n",
    "\n",
    "    # Break the loop\n",
    "    else:\n",
    "        break\n",
    "\n",
    "# When everything done, release\n",
    "# the video capture object\n",
    "cap.release()\n",
    "\n",
    "# Closes all the frames\n",
    "cv2.destroyAllWindows()\n"
   ]
  },
  {
   "cell_type": "code",
   "execution_count": 8,
   "id": "acbe7a12",
   "metadata": {},
   "outputs": [
    {
     "name": "stdout",
     "output_type": "stream",
     "text": [
      "File has been moved\n"
     ]
    }
   ],
   "source": [
    "# Q12 Write a function whihc can move a file from one directory to another directory.\n",
    "\n",
    "import shutil\n",
    "import os\n",
    "\n",
    "def move_file(file):\n",
    "    '''\n",
    "        Function that moves a file from one directory to another\n",
    "    '''\n",
    "    try:\n",
    "        \n",
    "        target_loc= os.path.join(os.getcwd(),'destination')\n",
    "        shutil.move(os.path.join(os.getcwd(),file),target_loc)\n",
    "    except Exception as e:\n",
    "        print(e)\n",
    "    else:\n",
    "        print('File has been moved')\n",
    "file='test.txt'\n",
    "move_file(file)"
   ]
  },
  {
   "cell_type": "code",
   "execution_count": null,
   "id": "5f231ba4",
   "metadata": {},
   "outputs": [],
   "source": [
    "# Q13 Write a function which will be able to shutdown your system.\n",
    "\n",
    "import os\n",
    "  \n",
    "def fun_shutdown():\n",
    "    '''\n",
    "    Function to shutdown your system.\n",
    "    '''\n",
    "    os.system(\"shutdown /s /t 1\")\n",
    "    \n",
    "fun_shutdown()\n",
    "\n",
    "\n"
   ]
  },
  {
   "cell_type": "code",
   "execution_count": 11,
   "id": "e3d320f6",
   "metadata": {},
   "outputs": [
    {
     "name": "stdout",
     "output_type": "stream",
     "text": [
      " A Simple PDF File  This is a small demonstration .pdf file -  just for use in the Virtual Mechanics tutorials. More text. And more  text. And more text. And more text. And more text.  And more text. And more text. And more text. And more text. And more  text. And more text. Boring, zzzzz. And more text. And more text. And  more text. And more text. And more text. And more text. And more text.  And more text. And more text.  And more text. And more text. And more text. And more text. And more  text. And more text. And more text. Even more. Continued on page 2 ...\n",
      " Simple PDF File 2  ...continued from page 1. Yet more text. And more text. And more text.  And more text. And more text. And more text. And more text. And more  text. Oh, how boring typing this stuff. But not as boring as watching  paint dry. And more text. And more text. And more text. And more text.  Boring.  More, a little more text. The end, and just as well. \n"
     ]
    }
   ],
   "source": [
    "# Q16. Write a function to read a complete PDf file.\n",
    "\n",
    "#!pip install PyPDF2\n",
    "\n",
    "import PyPDF2 as pd\n",
    "\n",
    "def read_pdf(file):\n",
    "    '''\n",
    "    Function that reads complete pdf file.\n",
    "    '''\n",
    "    obj= open(file,'rb')\n",
    "    pd_reader= pd.PdfFileReader(obj)\n",
    "    n=pd_reader.numPages\n",
    "    for i in range(n):\n",
    "        pageObj = pd_reader.getPage(i)\n",
    "        print(pageObj.extractText())\n",
    "\n",
    "    obj.close()\n",
    "\n",
    "file='sample.pdf'\n",
    "read_pdf(file)\n"
   ]
  },
  {
   "cell_type": "code",
   "execution_count": 17,
   "id": "cf74eb27",
   "metadata": {},
   "outputs": [
    {
     "name": "stdout",
     "output_type": "stream",
     "text": [
      "1. In the below elements which of them are values or an expression? eg:- values can be integer or string and expressions will be mathematical operators.\n",
      "\n",
      "* \n",
      "\n",
      "'hello'\n",
      "\n",
      "-87.8\n",
      "\n",
      "- \n",
      "\n",
      "/ \n",
      "\n",
      "\n",
      "\n",
      "6 \n",
      "\n",
      "\n",
      "\n",
      "2. What is the difference between string and variable?\n",
      "\n",
      "\n",
      "\n",
      "3. Describe three different data types.\n",
      "\n",
      "\n",
      "\n",
      "4. What is an expression made up of? What do all expressions do?\n",
      "\n",
      "5. This assignment statements, like spam = 10. What is the difference between an expression and a statement?\n",
      "\n",
      "6. After running the following code, what does the variable bacon contain?\n",
      "\n",
      "bacon = 22\n",
      "\n",
      "bacon + 1\n",
      "\n",
      "\n",
      "\n",
      "7. What should the values of the following two terms be?\n",
      "\n",
      "'spam' + 'spamspam'\n",
      "\n",
      "'spam' * 3\n",
      "\n",
      "\n",
      "\n",
      "8. Why is eggs a valid variable name while 100 is invalid?\n",
      "\n",
      "9. What three functions can be used to get the integer, floating-point number, or string version of a value?\n",
      "\n",
      "10. Why does this expression cause an error? How can you fix it?\n",
      "\n",
      "'I have eaten ' + 99 + ' burritos.'\n"
     ]
    }
   ],
   "source": [
    "# Q17 Write a function to read a word file. \n",
    "\n",
    "#!pip install docx2txt\n",
    "import docx2txt\n",
    "\n",
    "def read_docx(file):\n",
    "    '''\n",
    "    Function to read a word file.\n",
    "    '''\n",
    "    my_text = docx2txt.process(file)\n",
    "    print(my_text)\n",
    "\n",
    "file=\"Assignment_1.docx\"\n",
    "read_docx(file)"
   ]
  },
  {
   "cell_type": "code",
   "execution_count": 21,
   "id": "6779f7f3",
   "metadata": {},
   "outputs": [
    {
     "name": "stdout",
     "output_type": "stream",
     "text": [
      "Assignment_1.docx\n"
     ]
    }
   ],
   "source": [
    "# Q18 . Write a function which can help you to filter only word file from a directory. \n",
    "\n",
    "import os\n",
    "\n",
    "def filter_docx():\n",
    "    '''\n",
    "    Function which can help you to filter only word file from a directory.\n",
    "    '''\n",
    "    for i in os.listdir():\n",
    "        if i.endswith('.docx'):\n",
    "            print(i)\n",
    "            \n",
    "filter_docx()"
   ]
  },
  {
   "cell_type": "code",
   "execution_count": 25,
   "id": "b498e8ac",
   "metadata": {},
   "outputs": [
    {
     "name": "stdout",
     "output_type": "stream",
     "text": [
      "192.168.1.8\n"
     ]
    }
   ],
   "source": [
    "# Q19 Write a function by which you can print an ip address of your system.\n",
    "\n",
    "import socket\n",
    "\n",
    "def print_ipaddress():\n",
    "    '''\n",
    "    Function which can print IP Address of your system.\n",
    "    '''\n",
    "    host_name= socket.gethostname()\n",
    "    print(socket.gethostbyname(host_name))\n",
    "    \n",
    "print_ipaddress()"
   ]
  },
  {
   "cell_type": "code",
   "execution_count": 29,
   "id": "07263770",
   "metadata": {},
   "outputs": [],
   "source": [
    "# Q20 Write a function by which you will be able to append two PDF files.\n",
    "\n",
    "from PyPDF2 import PdfFileMerger\n",
    "\n",
    "def merge_pdf():\n",
    "    '''\n",
    "    Function by which you will be able to append two PDF files.\n",
    "    '''\n",
    "    pdfs = ['sample.pdf', 'sample2.pdf']\n",
    "\n",
    "    merger = PdfFileMerger()\n",
    "\n",
    "    for pdf in pdfs:\n",
    "        merger.append(pdf)\n",
    "\n",
    "    merger.write(\"result.pdf\")\n",
    "    merger.close()\n",
    "\n",
    "merge_pdf()"
   ]
  },
  {
   "cell_type": "code",
   "execution_count": null,
   "id": "3fa88c3f",
   "metadata": {},
   "outputs": [],
   "source": []
  }
 ],
 "metadata": {
  "kernelspec": {
   "display_name": "Python 3",
   "language": "python",
   "name": "python3"
  },
  "language_info": {
   "codemirror_mode": {
    "name": "ipython",
    "version": 3
   },
   "file_extension": ".py",
   "mimetype": "text/x-python",
   "name": "python",
   "nbconvert_exporter": "python",
   "pygments_lexer": "ipython3",
   "version": "3.8.8"
  }
 },
 "nbformat": 4,
 "nbformat_minor": 5
}
